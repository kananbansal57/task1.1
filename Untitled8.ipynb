{
  "nbformat": 4,
  "nbformat_minor": 0,
  "metadata": {
    "colab": {
      "provenance": [],
      "authorship_tag": "ABX9TyO3xfi6fC/FQLK62RXHQRZw",
      "include_colab_link": true
    },
    "kernelspec": {
      "name": "python3",
      "display_name": "Python 3"
    },
    "language_info": {
      "name": "python"
    }
  },
  "cells": [
    {
      "cell_type": "markdown",
      "metadata": {
        "id": "view-in-github",
        "colab_type": "text"
      },
      "source": [
        "<a href=\"https://colab.research.google.com/github/kananbansal57/task1.1/blob/main/Untitled8.ipynb\" target=\"_parent\"><img src=\"https://colab.research.google.com/assets/colab-badge.svg\" alt=\"Open In Colab\"/></a>"
      ]
    },
    {
      "cell_type": "code",
      "execution_count": 1,
      "metadata": {
        "id": "m5-SmeKxwwEO"
      },
      "outputs": [],
      "source": [
        "import pandas as pd\n"
      ]
    },
    {
      "cell_type": "code",
      "source": [
        "# Load the dataset\n",
        "df = pd.read_csv(\"/content/dataset_.csv\")"
      ],
      "metadata": {
        "id": "dSv8_eVmznHH"
      },
      "execution_count": 2,
      "outputs": []
    },
    {
      "cell_type": "code",
      "source": [
        "# 1. Identify and handle missing values\n",
        "print(\"Missing values per column:\\n\", df.isnull().sum())\n",
        "# Option 1: Drop rows with any missing values\n",
        "df = df.dropna()"
      ],
      "metadata": {
        "colab": {
          "base_uri": "https://localhost:8080/"
        },
        "id": "gOHWIETs3ihg",
        "outputId": "c5bd7fc4-c4ee-4e48-b37d-4e6614459774"
      },
      "execution_count": 3,
      "outputs": [
        {
          "output_type": "stream",
          "name": "stdout",
          "text": [
            "Missing values per column:\n",
            " age                0\n",
            "sex                0\n",
            "bmi                0\n",
            "children           0\n",
            "smoker             0\n",
            "region             0\n",
            "medical charges    0\n",
            "dtype: int64\n"
          ]
        }
      ]
    },
    {
      "cell_type": "code",
      "source": [
        "# 2. Remove duplicate rows\n",
        "df = df.drop_duplicates()\n"
      ],
      "metadata": {
        "id": "LBik9xn73zN_"
      },
      "execution_count": 4,
      "outputs": []
    },
    {
      "cell_type": "code",
      "source": [
        "# 3. Standardize text values (e.g., gender, country, region, etc.)\n",
        "text_cols = df.select_dtypes(include='object').columns\n",
        "for col in text_cols:\n",
        "    df[col] = df[col].str.lower().str.strip()"
      ],
      "metadata": {
        "id": "9tADR-rJ350j"
      },
      "execution_count": 5,
      "outputs": []
    },
    {
      "cell_type": "code",
      "source": [
        "# 4. Convert date formats to consistent type\n",
        "if 'date_of_birth' in df.columns:\n",
        "    df['date_of_birth'] = pd.to_datetime(df['date_of_birth'], errors='coerce', dayfirst=True)"
      ],
      "metadata": {
        "id": "0tFSoS3t4GSa"
      },
      "execution_count": 6,
      "outputs": []
    },
    {
      "cell_type": "code",
      "source": [
        "# 5. Rename column headers to be clean and uniform\n",
        "df.columns = df.columns.str.lower().str.strip().str.replace(' ', '_')"
      ],
      "metadata": {
        "id": "SrsrPcfy4Snv"
      },
      "execution_count": 7,
      "outputs": []
    },
    {
      "cell_type": "code",
      "source": [
        "# 6. Check and fix data types\n",
        "if 'age' in df.columns:\n",
        "    df['age'] = df['age'].astype(int)"
      ],
      "metadata": {
        "id": "qPyO5fcH4aIO"
      },
      "execution_count": 8,
      "outputs": []
    },
    {
      "cell_type": "code",
      "source": [
        "# Save cleaned data\n",
        "df.to_csv(\"cleaned_dataset.csv\", index=False)\n"
      ],
      "metadata": {
        "id": "jTCTobEj49ic"
      },
      "execution_count": 9,
      "outputs": []
    },
    {
      "cell_type": "code",
      "source": [],
      "metadata": {
        "id": "4Btg2S475EUF"
      },
      "execution_count": null,
      "outputs": []
    }
  ]
}